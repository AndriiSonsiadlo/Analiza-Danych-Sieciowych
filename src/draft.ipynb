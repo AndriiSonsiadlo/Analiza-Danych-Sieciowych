{
 "cells": [
  {
   "cell_type": "code",
   "execution_count": 3,
   "metadata": {
    "collapsed": true
   },
   "outputs": [],
   "source": [
    "from Graph import Graph\n",
    "\n",
    "from src.utils import get_airports, get_flights\n",
    "\n",
    "AIRPORTS = {airport.code: airport for airport in get_airports(\"../dataset/airports.csv\")}\n",
    "FLIGHTS = [flight for flight in get_flights(\"../dataset/flights.csv\")]\n",
    "\n"
   ]
  },
  {
   "cell_type": "code",
   "execution_count": 4,
   "outputs": [],
   "source": [
    "world = Graph.load(FLIGHTS, AIRPORTS)"
   ],
   "metadata": {
    "collapsed": false
   }
  },
  {
   "cell_type": "code",
   "execution_count": 5,
   "outputs": [],
   "source": [
    "origin = valencia = AIRPORTS['ODO']\n",
    "destination = portland = AIRPORTS['FCO']\n",
    "\n"
   ],
   "metadata": {
    "collapsed": false
   }
  },
  {
   "cell_type": "code",
   "execution_count": 8,
   "outputs": [
    {
     "ename": "TypeError",
     "evalue": "unhashable type: 'list'",
     "output_type": "error",
     "traceback": [
      "\u001B[1;31m---------------------------------------------------------------------------\u001B[0m",
      "\u001B[1;31mTypeError\u001B[0m                                 Traceback (most recent call last)",
      "Cell \u001B[1;32mIn[8], line 1\u001B[0m\n\u001B[1;32m----> 1\u001B[0m distance, path \u001B[38;5;241m=\u001B[39m \u001B[43mworld\u001B[49m\u001B[38;5;241;43m.\u001B[39;49m\u001B[43mdijkstra\u001B[49m\u001B[43m(\u001B[49m\u001B[43mvalencia\u001B[49m\u001B[43m,\u001B[49m\u001B[43m \u001B[49m\u001B[43mportland\u001B[49m\u001B[43m)\u001B[49m\n\u001B[0;32m      2\u001B[0m \u001B[38;5;28;01mif\u001B[39;00m path \u001B[38;5;129;01mis\u001B[39;00m \u001B[38;5;129;01mnot\u001B[39;00m \u001B[38;5;28;01mNone\u001B[39;00m:\n\u001B[0;32m      3\u001B[0m     \u001B[38;5;28;01mfor\u001B[39;00m index, airport \u001B[38;5;129;01min\u001B[39;00m \u001B[38;5;28menumerate\u001B[39m(path, start\u001B[38;5;241m=\u001B[39m\u001B[38;5;241m1\u001B[39m):\n",
      "File \u001B[1;32mE:\\projects\\Analiza-Danych-Sieciowych\\Graph.py:70\u001B[0m, in \u001B[0;36mGraph.dijkstra\u001B[1;34m(self, origin, destination)\u001B[0m\n\u001B[0;32m     68\u001B[0m price, path \u001B[38;5;241m=\u001B[39m routes\u001B[38;5;241m.\u001B[39mpop()\n\u001B[0;32m     69\u001B[0m airport \u001B[38;5;241m=\u001B[39m path[\u001B[38;5;241m-\u001B[39m\u001B[38;5;241m1\u001B[39m]\n\u001B[1;32m---> 70\u001B[0m \u001B[38;5;28;01mif\u001B[39;00m \u001B[43mairport\u001B[49m\u001B[43m \u001B[49m\u001B[38;5;129;43;01min\u001B[39;49;00m\u001B[43m \u001B[49m\u001B[43mvisited\u001B[49m:\n\u001B[0;32m     71\u001B[0m     \u001B[38;5;28;01mcontinue\u001B[39;00m\n\u001B[0;32m     73\u001B[0m \u001B[38;5;66;03m# We have arrived! Wo-hoo!\u001B[39;00m\n",
      "\u001B[1;31mTypeError\u001B[0m: unhashable type: 'list'"
     ]
    }
   ],
   "source": [
    "distance, path = world.dijkstra(valencia, portland)\n",
    "if path is not None:\n",
    "    for index, airport in enumerate(path, start=1):\n",
    "        print(index, '|', airport)\n",
    "print(round(distance, 2), '€')\n"
   ],
   "metadata": {
    "collapsed": false
   }
  },
  {
   "cell_type": "code",
   "execution_count": 9,
   "outputs": [
    {
     "data": {
      "text/plain": "<Graph.Graph at 0x1cea31fa230>"
     },
     "execution_count": 9,
     "metadata": {},
     "output_type": "execute_result"
    }
   ],
   "source": [
    "world"
   ],
   "metadata": {
    "collapsed": false
   }
  },
  {
   "cell_type": "code",
   "execution_count": 32,
   "outputs": [
    {
     "data": {
      "text/plain": "{Airport(code='AJU', name='Santa Maria Airport', country='Brazil', latitude=-10.984000206, longitude=-37.0703010559),\n Airport(code='ATL', name='Hartsfield Jackson Atlanta International Airport', country='United States', latitude=33.6367, longitude=-84.428101),\n Airport(code='AUX', name='Araguaína Airport', country='Brazil', latitude=-7.22787, longitude=-48.240501),\n Airport(code='BEL', name='Val de Cans/Júlio Cezar Ribeiro International Airport', country='Brazil', latitude=-1.3792500495900002, longitude=-48.4762992859),\n Airport(code='BRA', name='Barreiras Airport', country='Brazil', latitude=-12.078900337219238, longitude=-45.00899887084961),\n Airport(code='CDG', name='Charles de Gaulle International Airport', country='France', latitude=49.012798, longitude=2.55),\n Airport(code='CGB', name='Marechal Rondon Airport', country='Brazil', latitude=-15.6528997421, longitude=-56.1166992188),\n Airport(code='CGH', name='Congonhas Airport', country='Brazil', latitude=-23.626110076904297, longitude=-46.65638732910156),\n Airport(code='CGR', name='Campo Grande Airport', country='Brazil', latitude=-20.468700408900002, longitude=-54.6725006104),\n Airport(code='CNF', name='Tancredo Neves International Airport', country='Brazil', latitude=-19.62444305419922, longitude=-43.97194290161133),\n Airport(code='CWB', name='Afonso Pena Airport', country='Brazil', latitude=-25.5284996033, longitude=-49.1758003235),\n Airport(code='EZE', name='Ministro Pistarini International Airport', country='Argentina', latitude=-34.8222, longitude=-58.5358),\n Airport(code='FLN', name='Hercílio Luz International Airport', country='Brazil', latitude=-27.670278549194336, longitude=-48.5525016784668),\n Airport(code='FOR', name='Pinto Martins International Airport', country='Brazil', latitude=-3.776279926300049, longitude=-38.53260040283203),\n Airport(code='GIG', name='Rio Galeão – Tom Jobim International Airport', country='Brazil', latitude=-22.8099994659, longitude=-43.2505569458),\n Airport(code='GRU', name='Guarulhos - Governador André Franco Montoro International Airport', country='Brazil', latitude=-23.435556411743164, longitude=-46.47305679321289),\n Airport(code='GYN', name='Santa Genoveva Airport', country='Brazil', latitude=-16.631999969482422, longitude=-49.220699310302734),\n Airport(code='IMP', name='Prefeito Renato Moreira Airport', country='Brazil', latitude=-5.53129, longitude=-47.459999),\n Airport(code='IOS', name='Bahia - Jorge Amado Airport', country='Brazil', latitude=-14.815999984741, longitude=-39.033199310303),\n Airport(code='JDO', name='Orlando Bezerra de Menezes Airport', country='Brazil', latitude=-7.21895980835, longitude=-39.270099639899996),\n Airport(code='JPA', name='Presidente Castro Pinto International Airport', country='Brazil', latitude=-7.145833015440001, longitude=-34.9486122131),\n Airport(code='LIS', name='Humberto Delgado Airport (Lisbon Portela Airport)', country='Portugal', latitude=38.7813, longitude=-9.13592),\n Airport(code='MAB', name='João Correa da Rocha Airport', country='Brazil', latitude=-5.36858987808, longitude=-49.138000488299994),\n Airport(code='MAO', name='Eduardo Gomes International Airport', country='Brazil', latitude=-3.0386099815368652, longitude=-60.04970169067383),\n Airport(code='MCZ', name='Zumbi dos Palmares Airport', country='Brazil', latitude=-9.510809898376465, longitude=-35.79169845581055),\n Airport(code='MIA', name='Miami International Airport', country='United States', latitude=25.79319953918457, longitude=-80.29060363769531),\n Airport(code='MQH', name='Minaçu Airport', country='Brazil', latitude=-13.5491, longitude=-48.195301),\n Airport(code='NAT', name='Governador Aluízio Alves International Airport', country='Brazil', latitude=-5.768056, longitude=-35.376111),\n Airport(code='OPS', name='Presidente João Batista Figueiredo Airport', country='Brazil', latitude=-11.885000228881836, longitude=-55.58610916137695),\n Airport(code='PMW', name='Brigadeiro Lysias Rodrigues Airport', country='Brazil', latitude=-10.291500091600001, longitude=-48.35699844359999),\n Airport(code='PNZ', name='Senador Nilo Coelho Airport', country='Brazil', latitude=-9.362409591674805, longitude=-40.56909942626953),\n Airport(code='POA', name='Salgado Filho Airport', country='Brazil', latitude=-29.994400024414062, longitude=-51.1713981628418),\n Airport(code='PTY', name='Tocumen International Airport', country='Panama', latitude=9.0713596344, longitude=-79.3834991455),\n Airport(code='PVH', name='Governador Jorge Teixeira de Oliveira Airport', country='Brazil', latitude=-8.70928955078125, longitude=-63.90230178833008),\n Airport(code='RAO', name='Leite Lopes Airport', country='Brazil', latitude=-21.136388778686523, longitude=-47.776668548583984),\n Airport(code='RBR', name='Plácido de Castro Airport', country='Brazil', latitude=-9.868888854980469, longitude=-67.89805603027344),\n Airport(code='REC', name='Guararapes - Gilberto Freyre International Airport', country='Brazil', latitude=-8.126489639282227, longitude=-34.92359924316406),\n Airport(code='SDU', name='Santos Dumont Airport', country='Brazil', latitude=-22.910499572799996, longitude=-43.1631011963),\n Airport(code='SJP', name='Prof. Eribelto Manoel Reino State Airport', country='Brazil', latitude=-20.816600799599996, longitude=-49.40650177),\n Airport(code='SLZ', name='Marechal Cunha Machado International Airport', country='Brazil', latitude=-2.585360050201416, longitude=-44.234100341796875),\n Airport(code='SSA', name='Deputado Luiz Eduardo Magalhães International Airport', country='Brazil', latitude=-12.9086112976, longitude=-38.3224983215),\n Airport(code='THE', name='Senador Petrônio Portela Airport', country='Brazil', latitude=-5.0599398613, longitude=-42.8235015869),\n Airport(code='UDI', name='Ten. Cel. Aviador César Bombonato Airport', country='Brazil', latitude=-18.883612, longitude=-48.225277),\n Airport(code='VCP', name='Viracopos International Airport', country='Brazil', latitude=-23.0074005127, longitude=-47.1344985962),\n Airport(code='VIX', name='Eurico de Aguiar Salles Airport', country='Brazil', latitude=-20.258057, longitude=-40.286388)}"
     },
     "execution_count": 32,
     "metadata": {},
     "output_type": "execute_result"
    }
   ],
   "source": [
    "a = world._neighbors[AIRPORTS['BSB']]\n",
    "a"
   ],
   "metadata": {
    "collapsed": false
   }
  },
  {
   "cell_type": "code",
   "execution_count": 5,
   "outputs": [],
   "source": [
    "from Graph import Route\n",
    "from Heap import Heap\n",
    "\n",
    "routes = Heap()\n",
    "for neighbor in world.neighbors(origin):\n",
    "    destination = world.get_destination(origin, neighbor)\n",
    "    routes.push(Route(destination=destination, path=[origin, neighbor]))\n",
    "\n"
   ],
   "metadata": {
    "collapsed": false
   }
  },
  {
   "cell_type": "code",
   "execution_count": 83,
   "outputs": [
    {
     "data": {
      "text/plain": "<Heap.Heap at 0x20a236dadd0>"
     },
     "execution_count": 83,
     "metadata": {},
     "output_type": "execute_result"
    }
   ],
   "source": [
    "routes"
   ],
   "metadata": {
    "collapsed": false
   }
  },
  {
   "cell_type": "code",
   "execution_count": null,
   "outputs": [],
   "source": [],
   "metadata": {
    "collapsed": false
   }
  },
  {
   "cell_type": "code",
   "execution_count": null,
   "outputs": [],
   "source": [],
   "metadata": {
    "collapsed": false
   }
  }
 ],
 "metadata": {
  "kernelspec": {
   "display_name": "Python 3",
   "language": "python",
   "name": "python3"
  },
  "language_info": {
   "codemirror_mode": {
    "name": "ipython",
    "version": 2
   },
   "file_extension": ".py",
   "mimetype": "text/x-python",
   "name": "python",
   "nbconvert_exporter": "python",
   "pygments_lexer": "ipython2",
   "version": "2.7.6"
  }
 },
 "nbformat": 4,
 "nbformat_minor": 0
}
