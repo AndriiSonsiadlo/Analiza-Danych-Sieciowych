{
 "cells": [
  {
   "cell_type": "code",
   "execution_count": 5,
   "metadata": {
    "collapsed": true
   },
   "outputs": [],
   "source": [
    "from Graph import Graph\n",
    "\n",
    "from main import get_airports, get_flights\n",
    "\n",
    "AIRPORTS = {airport.code: airport for airport in get_airports()}\n",
    "FLIGHTS = [flight for flight in get_flights()]\n",
    "\n"
   ]
  },
  {
   "cell_type": "code",
   "execution_count": 6,
   "outputs": [],
   "source": [
    "world = Graph.load(FLIGHTS, AIRPORTS)"
   ],
   "metadata": {
    "collapsed": false
   }
  },
  {
   "cell_type": "code",
   "execution_count": 7,
   "outputs": [],
   "source": [
    "origin = valencia = AIRPORTS['AER']\n",
    "destination = portland = AIRPORTS['FCO']\n",
    "\n"
   ],
   "metadata": {
    "collapsed": false
   }
  },
  {
   "cell_type": "code",
   "execution_count": 8,
   "outputs": [
    {
     "ename": "TypeError",
     "evalue": "unhashable type: 'list'",
     "output_type": "error",
     "traceback": [
      "\u001B[1;31m---------------------------------------------------------------------------\u001B[0m",
      "\u001B[1;31mTypeError\u001B[0m                                 Traceback (most recent call last)",
      "Cell \u001B[1;32mIn[8], line 1\u001B[0m\n\u001B[1;32m----> 1\u001B[0m distance, path \u001B[38;5;241m=\u001B[39m \u001B[43mworld\u001B[49m\u001B[38;5;241;43m.\u001B[39;49m\u001B[43mdijkstra\u001B[49m\u001B[43m(\u001B[49m\u001B[43mvalencia\u001B[49m\u001B[43m,\u001B[49m\u001B[43m \u001B[49m\u001B[43mportland\u001B[49m\u001B[43m)\u001B[49m\n\u001B[0;32m      2\u001B[0m \u001B[38;5;28;01mif\u001B[39;00m path \u001B[38;5;129;01mis\u001B[39;00m \u001B[38;5;129;01mnot\u001B[39;00m \u001B[38;5;28;01mNone\u001B[39;00m:\n\u001B[0;32m      3\u001B[0m     \u001B[38;5;28;01mfor\u001B[39;00m index, airport \u001B[38;5;129;01min\u001B[39;00m \u001B[38;5;28menumerate\u001B[39m(path, start\u001B[38;5;241m=\u001B[39m\u001B[38;5;241m1\u001B[39m):\n",
      "File \u001B[1;32mE:\\projects\\Analiza-Danych-Sieciowych\\Graph.py:70\u001B[0m, in \u001B[0;36mGraph.dijkstra\u001B[1;34m(self, origin, destination)\u001B[0m\n\u001B[0;32m     68\u001B[0m price, path \u001B[38;5;241m=\u001B[39m routes\u001B[38;5;241m.\u001B[39mpop()\n\u001B[0;32m     69\u001B[0m airport \u001B[38;5;241m=\u001B[39m path[\u001B[38;5;241m-\u001B[39m\u001B[38;5;241m1\u001B[39m]\n\u001B[1;32m---> 70\u001B[0m \u001B[38;5;28;01mif\u001B[39;00m \u001B[43mairport\u001B[49m\u001B[43m \u001B[49m\u001B[38;5;129;43;01min\u001B[39;49;00m\u001B[43m \u001B[49m\u001B[43mvisited\u001B[49m:\n\u001B[0;32m     71\u001B[0m     \u001B[38;5;28;01mcontinue\u001B[39;00m\n\u001B[0;32m     73\u001B[0m \u001B[38;5;66;03m# We have arrived! Wo-hoo!\u001B[39;00m\n",
      "\u001B[1;31mTypeError\u001B[0m: unhashable type: 'list'"
     ]
    }
   ],
   "source": [
    "distance, path = world.dijkstra(valencia, portland)\n",
    "if path is not None:\n",
    "    for index, airport in enumerate(path, start=1):\n",
    "        print(index, '|', airport)\n",
    "print(round(distance, 2), '€')\n"
   ],
   "metadata": {
    "collapsed": false
   }
  },
  {
   "cell_type": "code",
   "execution_count": 9,
   "outputs": [
    {
     "data": {
      "text/plain": "<Graph.Graph at 0x1cea31fa230>"
     },
     "execution_count": 9,
     "metadata": {},
     "output_type": "execute_result"
    }
   ],
   "source": [
    "world"
   ],
   "metadata": {
    "collapsed": false
   }
  },
  {
   "cell_type": "code",
   "execution_count": 77,
   "outputs": [
    {
     "data": {
      "text/plain": "{Airport(code='ADD', name='Addis Ababa Bole International Airport', country='Ethiopia', latitude=8.97789001465, longitude=38.799301147499996),\n Airport(code='AGP', name='Málaga Airport', country='Spain', latitude=36.67490005493164, longitude=-4.499110221862793),\n Airport(code='AHO', name='Alghero-Fertilia Airport', country='Italy', latitude=40.632099, longitude=8.29077),\n Airport(code='ALC', name='Alicante International Airport', country='Spain', latitude=38.28219985961914, longitude=-0.5581560134887695),\n Airport(code='ALG', name='Houari Boumediene Airport', country='Algeria', latitude=36.691001892089844, longitude=3.215409994125366),\n Airport(code='AMM', name='Queen Alia International Airport', country='Jordan', latitude=31.7226009369, longitude=35.9931983948),\n Airport(code='AMS', name='Amsterdam Airport Schiphol', country='Netherlands', latitude=52.308601, longitude=4.76389),\n Airport(code='AOI', name='Ancona Falconara Airport', country='Italy', latitude=43.616299, longitude=13.3623),\n Airport(code='ARN', name='Stockholm-Arlanda Airport', country='Sweden', latitude=59.651901245117, longitude=17.918600082397),\n Airport(code='ATH', name='Eleftherios Venizelos International Airport', country='Greece', latitude=37.9364013672, longitude=23.9444999695),\n Airport(code='ATL', name='Hartsfield Jackson Atlanta International Airport', country='United States', latitude=33.6367, longitude=-84.428101),\n Airport(code='AUH', name='Abu Dhabi International Airport', country='United Arab Emirates', latitude=24.433000564575195, longitude=54.651100158691406),\n Airport(code='BCN', name='Barcelona International Airport', country='Spain', latitude=41.2971, longitude=2.07846),\n Airport(code='BDS', name='Brindisi – Salento Airport', country='Italy', latitude=40.6576, longitude=17.947001),\n Airport(code='BEG', name='Belgrade Nikola Tesla Airport', country='Serbia', latitude=44.8184013367, longitude=20.3090991974),\n Airport(code='BEY', name='Beirut Rafic Hariri International Airport', country='Lebanon', latitude=33.820899963378906, longitude=35.488399505615234),\n Airport(code='BGO', name='Bergen Airport Flesland', country='Norway', latitude=60.29339981, longitude=5.218140125),\n Airport(code='BHX', name='Birmingham International Airport', country='United Kingdom', latitude=52.453899383499994, longitude=-1.74802994728),\n Airport(code='BIO', name='Bilbao Airport', country='Spain', latitude=43.30110168457031, longitude=-2.9106099605560303),\n Airport(code='BKK', name='Suvarnabhumi Airport', country='Thailand', latitude=13.681099891662598, longitude=100.74700164794922),\n Airport(code='BLQ', name='Bologna Guglielmo Marconi Airport', country='Italy', latitude=44.5354, longitude=11.2887),\n Airport(code='BOD', name='Bordeaux-Mérignac Airport', country='France', latitude=44.828300476100004, longitude=-0.715556025505),\n Airport(code='BOS', name='General Edward Lawrence Logan International Airport', country='United States', latitude=42.36429977, longitude=-71.00520325),\n Airport(code='BRI', name='Bari Karol Wojtyła Airport', country='Italy', latitude=41.138901, longitude=16.760599),\n Airport(code='BRS', name='Bristol Airport', country='United Kingdom', latitude=51.382702, longitude=-2.71909),\n Airport(code='BRU', name='Brussels Airport', country='Belgium', latitude=50.901401519800004, longitude=4.48443984985),\n Airport(code='BSL', name='EuroAirport Basel-Mulhouse-Freiburg Airport', country='France', latitude=47.59, longitude=7.5291667),\n Airport(code='BUD', name='Budapest Liszt Ferenc International Airport', country='Hungary', latitude=47.42976, longitude=19.261093),\n Airport(code='BZO', name='Bolzano Airport', country='Italy', latitude=46.460201, longitude=11.3264),\n Airport(code='CAG', name='Cagliari Elmas Airport', country='Italy', latitude=39.251499, longitude=9.05428),\n Airport(code='CAI', name='Cairo International Airport', country='Egypt', latitude=30.12190055847168, longitude=31.40559959411621),\n Airport(code='CCS', name='Simón Bolívar International Airport', country='Venezuela', latitude=10.601194, longitude=-66.991222),\n Airport(code='CDG', name='Charles de Gaulle International Airport', country='France', latitude=49.012798, longitude=2.55),\n Airport(code='CGN', name='Cologne Bonn Airport', country='Germany', latitude=50.8658981323, longitude=7.1427397728),\n Airport(code='CLT', name='Charlotte Douglas International Airport', country='United States', latitude=35.2140007019043, longitude=-80.94309997558594),\n Airport(code='CMB', name='Bandaranaike International Colombo Airport', country='Sri Lanka', latitude=7.180759906768799, longitude=79.88410186767578),\n Airport(code='CMN', name='Mohammed V International Airport', country='Morocco', latitude=33.36750030517578, longitude=-7.589970111846924),\n Airport(code='CPH', name='Copenhagen Kastrup Airport', country='Denmark', latitude=55.617900848389, longitude=12.656000137329),\n Airport(code='CTA', name='Catania-Fontanarossa Airport', country='Italy', latitude=37.466801, longitude=15.0664),\n Airport(code='DAC', name='Hazrat Shahjalal International Airport', country='Bangladesh', latitude=23.843347, longitude=90.397783),\n Airport(code='DBV', name='Dubrovnik Airport', country='Croatia', latitude=42.5614013671875, longitude=18.268199920654297),\n Airport(code='DEL', name='Indira Gandhi International Airport', country='India', latitude=28.5665, longitude=77.103104),\n Airport(code='DME', name='Domodedovo International Airport', country='Russia', latitude=55.40879821777344, longitude=37.90629959106445),\n Airport(code='DOH', name='Hamad International Airport', country='Qatar', latitude=25.273056, longitude=51.608056),\n Airport(code='DUB', name='Dublin Airport', country='Ireland', latitude=53.421299, longitude=-6.27007),\n Airport(code='DUS', name='Düsseldorf Airport', country='Germany', latitude=51.289501, longitude=6.76678),\n Airport(code='DXB', name='Dubai International Airport', country='United Arab Emirates', latitude=25.2527999878, longitude=55.3643989563),\n Airport(code='EVN', name='Zvartnots International Airport', country='Armenia', latitude=40.1473007202, longitude=44.3959007263),\n Airport(code='EWR', name='Newark Liberty International Airport', country='United States', latitude=40.692501068115234, longitude=-74.168701171875),\n Airport(code='EZE', name='Ministro Pistarini International Airport', country='Argentina', latitude=-34.8222, longitude=-58.5358),\n Airport(code='FLR', name='Peretola Airport', country='Italy', latitude=43.810001, longitude=11.2051),\n Airport(code='FRA', name='Frankfurt am Main Airport', country='Germany', latitude=50.033333, longitude=8.570556),\n Airport(code='FUE', name='Fuerteventura Airport', country='Spain', latitude=28.452699661254883, longitude=-13.863800048828125),\n Airport(code='GDN', name='Gdańsk Lech Wałęsa Airport', country='Poland', latitude=54.377601623535156, longitude=18.46619987487793),\n Airport(code='GIG', name='Rio Galeão – Tom Jobim International Airport', country='Brazil', latitude=-22.8099994659, longitude=-43.2505569458),\n Airport(code='GLA', name='Glasgow International Airport', country='United Kingdom', latitude=55.8718986511, longitude=-4.43306016922),\n Airport(code='GOA', name='Genoa Cristoforo Colombo Airport', country='Italy', latitude=44.4133, longitude=8.8375),\n Airport(code='GOT', name='Gothenburg-Landvetter Airport', country='Sweden', latitude=57.662799835205, longitude=12.279800415039),\n Airport(code='GRU', name='Guarulhos - Governador André Franco Montoro International Airport', country='Brazil', latitude=-23.435556411743164, longitude=-46.47305679321289),\n Airport(code='GVA', name='Geneva Cointrin International Airport', country='Switzerland', latitude=46.23809814453125, longitude=6.108950138092041),\n Airport(code='GYD', name='Heydar Aliyev International Airport', country='Azerbaijan', latitude=40.467498779296875, longitude=50.04669952392578),\n Airport(code='HAJ', name='Hannover Airport', country='Germany', latitude=52.461101532, longitude=9.685079574580001),\n Airport(code='HAM', name='Hamburg Airport', country='Germany', latitude=53.630401611328, longitude=9.9882297515869),\n Airport(code='HAV', name='José Martí International Airport', country='Cuba', latitude=22.989200592041016, longitude=-82.40910339355469),\n Airport(code='HEL', name='Helsinki Vantaa Airport', country='Finland', latitude=60.317199707031, longitude=24.963300704956),\n Airport(code='HKG', name='Hong Kong International Airport', country='Hong Kong', latitude=22.308901, longitude=113.915001),\n Airport(code='IAD', name='Washington Dulles International Airport', country='United States', latitude=38.94449997, longitude=-77.45580292),\n Airport(code='IAS', name='Iaşi Airport', country='Romania', latitude=47.17850112915039, longitude=27.6205997467041),\n Airport(code='ICN', name='Incheon International Airport', country='South Korea', latitude=37.46910095214844, longitude=126.45099639892578),\n Airport(code='IKA', name='Imam Khomeini International Airport', country='Iran', latitude=35.416099548339844, longitude=51.152198791503906),\n Airport(code='IST', name='Istanbul Airport', country='Turkey', latitude=41.275278, longitude=28.751944),\n Airport(code='JED', name='King Abdulaziz International Airport', country='Saudi Arabia', latitude=21.6796, longitude=39.156502),\n Airport(code='JFK', name='John F Kennedy International Airport', country='United States', latitude=40.63980103, longitude=-73.77890015),\n Airport(code='KBP', name='Boryspil International Airport', country='Ukraine', latitude=50.345001220703125, longitude=30.894699096679688),\n Airport(code='KIV', name='Chişinău International Airport', country='Moldova', latitude=46.92770004272461, longitude=28.930999755859375),\n Airport(code='KIX', name='Kansai International Airport', country='Japan', latitude=34.42729949951172, longitude=135.24400329589844),\n Airport(code='KWI', name='Kuwait International Airport', country='Kuwait', latitude=29.226600646972656, longitude=47.96889877319336),\n Airport(code='LAX', name='Los Angeles International Airport', country='United States', latitude=33.94250107, longitude=-118.4079971),\n Airport(code='LBA', name='Leeds Bradford Airport', country='United Kingdom', latitude=53.86589813232422, longitude=-1.6605700254440308),\n Airport(code='LCY', name='London City Airport', country='United Kingdom', latitude=51.505299, longitude=0.055278),\n Airport(code='LED', name='Pulkovo Airport', country='Russia', latitude=59.80030059814453, longitude=30.262500762939453),\n Airport(code='LGW', name='London Gatwick Airport', country='United Kingdom', latitude=51.148102, longitude=-0.190278),\n Airport(code='LHR', name='London Heathrow Airport', country='United Kingdom', latitude=51.4706, longitude=-0.461941),\n Airport(code='LIN', name='Milano Linate Airport', country='Italy', latitude=45.445099, longitude=9.27674),\n Airport(code='LIS', name='Humberto Delgado Airport (Lisbon Portela Airport)', country='Portugal', latitude=38.7813, longitude=-9.13592),\n Airport(code='LOS', name='Murtala Muhammed International Airport', country='Nigeria', latitude=6.5773701667785645, longitude=3.321160078048706),\n Airport(code='LRM', name='Casa De Campo International Airport', country='Dominican Republic', latitude=18.450700759887695, longitude=-68.91179656982422),\n Airport(code='LTN', name='London Luton Airport', country='United Kingdom', latitude=51.874698638916016, longitude=-0.36833301186561584),\n Airport(code='LUX', name='Luxembourg-Findel International Airport', country='Luxembourg', latitude=49.6233333, longitude=6.2044444),\n Airport(code='LUZ', name='Lublin Airport', country='Poland', latitude=51.240278, longitude=22.713611),\n Airport(code='LWO', name='Lviv International Airport', country='Ukraine', latitude=49.8125, longitude=23.956100463867188),\n Airport(code='LYS', name='Lyon Saint-Exupéry Airport', country='France', latitude=45.725556, longitude=5.081111),\n Airport(code='MAD', name='Adolfo Suárez Madrid–Barajas Airport', country='Spain', latitude=40.471926, longitude=-3.56264),\n Airport(code='MAN', name='Manchester Airport', country='United Kingdom', latitude=53.35369873046875, longitude=-2.2749500274658203),\n Airport(code='MIA', name='Miami International Airport', country='United States', latitude=25.79319953918457, longitude=-80.29060363769531),\n Airport(code='MLA', name='Malta International Airport', country='Malta', latitude=35.857498, longitude=14.4775),\n Airport(code='MPL', name='Montpellier-Méditerranée Airport', country='France', latitude=43.57619857788086, longitude=3.96301007270813),\n Airport(code='MRS', name='Marseille Provence Airport', country='France', latitude=43.439271922, longitude=5.22142410278),\n Airport(code='MSQ', name='Minsk National Airport', country='Belarus', latitude=53.882499694824, longitude=28.030700683594),\n Airport(code='MUC', name='Munich Airport', country='Germany', latitude=48.353802, longitude=11.7861),\n Airport(code='MXP', name='Malpensa International Airport', country='Italy', latitude=45.6306, longitude=8.72811),\n Airport(code='NAP', name='Naples International Airport', country='Italy', latitude=40.886002, longitude=14.2908),\n Airport(code='NCE', name=\"Nice-Côte d'Azur Airport\", country='France', latitude=43.6584014893, longitude=7.215869903560001),\n Airport(code='NCL', name='Newcastle Airport', country='United Kingdom', latitude=55.037498474121094, longitude=-1.6916699409484863),\n Airport(code='NRT', name='Narita International Airport', country='Japan', latitude=35.7647018433, longitude=140.386001587),\n Airport(code='NTE', name='Nantes Atlantique Airport', country='France', latitude=47.153198242200006, longitude=-1.61073005199),\n Airport(code='OLB', name='Olbia Costa Smeralda Airport', country='Italy', latitude=40.898701, longitude=9.51763),\n Airport(code='OPO', name='Francisco de Sá Carneiro Airport', country='Portugal', latitude=41.2481002808, longitude=-8.68138980865),\n Airport(code='ORD', name=\"Chicago O'Hare International Airport\", country='United States', latitude=41.9786, longitude=-87.9048),\n Airport(code='ORN', name='Es Senia Airport', country='Algeria', latitude=35.6239013672, longitude=-0.6211829781529999),\n Airport(code='ORY', name='Paris-Orly Airport', country='France', latitude=48.7233333, longitude=2.3794444),\n Airport(code='OSL', name='Oslo Lufthavn', country='Norway', latitude=60.121, longitude=11.0502),\n Airport(code='OTP', name='Henri Coandă International Airport', country='Romania', latitude=44.5711111, longitude=26.085),\n Airport(code='PEK', name='Beijing Capital International Airport', country='China', latitude=40.080101013183594, longitude=116.58499908447266),\n Airport(code='PHL', name='Philadelphia International Airport', country='United States', latitude=39.87189865112305, longitude=-75.24109649658203),\n Airport(code='PMO', name='Falcone–Borsellino Airport', country='Italy', latitude=38.175999, longitude=13.091),\n Airport(code='PRG', name='Václav Havel Airport Prague', country='Czech Republic', latitude=50.1008, longitude=14.26),\n Airport(code='PSA', name='Pisa International Airport', country='Italy', latitude=43.683899, longitude=10.3927),\n Airport(code='PVG', name='Shanghai Pudong International Airport', country='China', latitude=31.143400192260742, longitude=121.80500030517578),\n Airport(code='REG', name='Reggio Calabria Airport', country='Italy', latitude=38.071201, longitude=15.6516),\n Airport(code='RIX', name='Riga International Airport', country='Latvia', latitude=56.92359924316406, longitude=23.971099853515625),\n Airport(code='RTM', name='Rotterdam The Hague Airport', country='Netherlands', latitude=51.956902, longitude=4.43722),\n Airport(code='RUH', name='King Khaled International Airport', country='Saudi Arabia', latitude=24.957599639892578, longitude=46.69879913330078),\n Airport(code='RZE', name='Rzeszów-Jasionka Airport', country='Poland', latitude=50.1100006104, longitude=22.0189990997),\n Airport(code='SAW', name='Sabiha Gökçen International Airport', country='Turkey', latitude=40.898601532, longitude=29.3092002869),\n Airport(code='SIN', name='Singapore Changi Airport', country='Singapore', latitude=1.35019, longitude=103.994003),\n Airport(code='SKG', name='Thessaloniki Macedonia International Airport', country='Greece', latitude=40.51969909667969, longitude=22.97089958190918),\n Airport(code='SKP', name='Skopje Alexander the Great Airport', country='Macedonia', latitude=41.961601, longitude=21.621401),\n Airport(code='SOF', name='Sofia Airport', country='Bulgaria', latitude=42.696693420410156, longitude=23.411436080932617),\n Airport(code='SPU', name='Split Airport', country='Croatia', latitude=43.53889846801758, longitude=16.29800033569336),\n Airport(code='STR', name='Stuttgart Airport', country='Germany', latitude=48.689899444599995, longitude=9.22196006775),\n Airport(code='SUF', name='Lamezia Terme Airport', country='Italy', latitude=38.905399, longitude=16.2423),\n Airport(code='SVO', name='Sheremetyevo International Airport', country='Russia', latitude=55.972599, longitude=37.4146),\n Airport(code='SVX', name='Koltsovo Airport', country='Russia', latitude=56.743099212646, longitude=60.802700042725),\n Airport(code='SXB', name='Strasbourg Airport', country='France', latitude=48.538299560546875, longitude=7.628230094909668),\n Airport(code='SXF', name='Berlin-Schönefeld Airport', country='Germany', latitude=52.380001, longitude=13.5225),\n Airport(code='TAS', name='Tashkent International Airport', country='Uzbekistan', latitude=41.257900238, longitude=69.2811965942),\n Airport(code='TBS', name='Tbilisi International Airport', country='Georgia', latitude=41.6692008972, longitude=44.95470047),\n Airport(code='TGD', name='Podgorica Airport', country='Montenegro', latitude=42.359402, longitude=19.2519),\n Airport(code='TIA', name='Tirana International Airport Mother Teresa', country='Albania', latitude=41.4146995544, longitude=19.7206001282),\n Airport(code='TIP', name='Tripoli International Airport', country='Libya', latitude=32.6635017395, longitude=13.1590003967),\n Airport(code='TLS', name='Toulouse-Blagnac Airport', country='France', latitude=43.629101, longitude=1.36382),\n Airport(code='TLV', name='Ben Gurion International Airport', country='Israel', latitude=32.01139831542969, longitude=34.88669967651367),\n Airport(code='TRN', name='Turin Airport', country='Italy', latitude=45.200802, longitude=7.64963),\n Airport(code='TRS', name='Trieste–Friuli Venezia Giulia Airport', country='Italy', latitude=45.827499, longitude=13.4722),\n Airport(code='TUN', name='Tunis Carthage International Airport', country='Tunisia', latitude=36.85100173950195, longitude=10.22719955444336),\n Airport(code='TXL', name='Berlin-Tegel Airport', country='Germany', latitude=52.5597, longitude=13.2877),\n Airport(code='VCE', name='Venice Marco Polo Airport', country='Italy', latitude=45.505299, longitude=12.3519),\n Airport(code='VIE', name='Vienna International Airport', country='Austria', latitude=48.110298156738, longitude=16.569700241089),\n Airport(code='VKO', name='Vnukovo International Airport', country='Russia', latitude=55.5914993286, longitude=37.2615013123),\n Airport(code='VLC', name='Valencia Airport', country='Spain', latitude=39.4893, longitude=-0.481625),\n Airport(code='VNO', name='Vilnius International Airport', country='Lithuania', latitude=54.634102, longitude=25.285801),\n Airport(code='VRN', name='Verona Villafranca Airport', country='Italy', latitude=45.395699, longitude=10.8885),\n Airport(code='WAW', name='Warsaw Chopin Airport', country='Poland', latitude=52.1656990051, longitude=20.967100143399996),\n Airport(code='YUL', name='Montreal / Pierre Elliott Trudeau International Airport', country='Canada', latitude=45.4706001282, longitude=-73.7407989502),\n Airport(code='YYZ', name='Lester B. Pearson International Airport', country='Canada', latitude=43.6772003174, longitude=-79.63059997559999),\n Airport(code='ZRH', name='Zürich Airport', country='Switzerland', latitude=47.464699, longitude=8.54917)}"
     },
     "execution_count": 77,
     "metadata": {},
     "output_type": "execute_result"
    }
   ],
   "source": [
    "world._neighbors[AIRPORTS['FCO']]"
   ],
   "metadata": {
    "collapsed": false
   }
  },
  {
   "cell_type": "code",
   "execution_count": 5,
   "outputs": [],
   "source": [
    "from Graph import Route\n",
    "from Heap import Heap\n",
    "\n",
    "routes = Heap()\n",
    "for neighbor in world.neighbors(origin):\n",
    "    price = world.get_price(origin, neighbor)\n",
    "    routes.push(Route(price=price, path=[origin, neighbor]))\n",
    "\n"
   ],
   "metadata": {
    "collapsed": false
   }
  },
  {
   "cell_type": "code",
   "execution_count": 83,
   "outputs": [
    {
     "data": {
      "text/plain": "<Heap.Heap at 0x20a236dadd0>"
     },
     "execution_count": 83,
     "metadata": {},
     "output_type": "execute_result"
    }
   ],
   "source": [
    "routes"
   ],
   "metadata": {
    "collapsed": false
   }
  },
  {
   "cell_type": "code",
   "execution_count": null,
   "outputs": [],
   "source": [],
   "metadata": {
    "collapsed": false
   }
  },
  {
   "cell_type": "code",
   "execution_count": null,
   "outputs": [],
   "source": [],
   "metadata": {
    "collapsed": false
   }
  }
 ],
 "metadata": {
  "kernelspec": {
   "display_name": "Python 3",
   "language": "python",
   "name": "python3"
  },
  "language_info": {
   "codemirror_mode": {
    "name": "ipython",
    "version": 2
   },
   "file_extension": ".py",
   "mimetype": "text/x-python",
   "name": "python",
   "nbconvert_exporter": "python",
   "pygments_lexer": "ipython2",
   "version": "2.7.6"
  }
 },
 "nbformat": 4,
 "nbformat_minor": 0
}
